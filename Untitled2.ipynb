{
  "nbformat": 4,
  "nbformat_minor": 0,
  "metadata": {
    "colab": {
      "name": "Untitled2.ipynb",
      "provenance": [],
      "collapsed_sections": [],
      "authorship_tag": "ABX9TyPkXsYOzjWCLjht7DeXG9yl",
      "include_colab_link": true
    },
    "kernelspec": {
      "name": "python3",
      "display_name": "Python 3"
    },
    "language_info": {
      "name": "python"
    }
  },
  "cells": [
    {
      "cell_type": "markdown",
      "metadata": {
        "id": "view-in-github",
        "colab_type": "text"
      },
      "source": [
        "<a href=\"https://colab.research.google.com/github/SAlvarez491/cd_202202_sergio_alvarez/blob/main/Untitled2.ipynb\" target=\"_parent\"><img src=\"https://colab.research.google.com/assets/colab-badge.svg\" alt=\"Open In Colab\"/></a>"
      ]
    },
    {
      "cell_type": "code",
      "execution_count": 12,
      "metadata": {
        "colab": {
          "base_uri": "https://localhost:8080/"
        },
        "id": "XmeO2T8qP5W0",
        "outputId": "b0bdf4a3-7a3a-4188-c6d0-efeefe33752b"
      },
      "outputs": [
        {
          "output_type": "stream",
          "name": "stdout",
          "text": [
            "-1.2644376899696048\n",
            "22.130699088145896\n"
          ]
        }
      ],
      "source": [
        "x=[3,7,8,2,11,6]\n",
        "y=[17,14,14,19,6,16]\n",
        "sumyx=0\n",
        "sumx=0\n",
        "sumy=0\n",
        "sumx2=0\n",
        "for i in range(0,6):\n",
        "  sumyx+=x[i]*y[i]\n",
        "  sumx+=x[i]\n",
        "  sumy+=y[i]\n",
        "  sumx2+=x[i]**2\n",
        "m=(6*sumyx-sumx*sumy)/(6*sumx2-sumx**2)\n",
        "b=(sumy/6)-(m*(sumx/6))\n",
        "print(m)\n",
        "print(b)\n",
        "\n",
        "\n",
        "\n"
      ]
    }
  ]
}